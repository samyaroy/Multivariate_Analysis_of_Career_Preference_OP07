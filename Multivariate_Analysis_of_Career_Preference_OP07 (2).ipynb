{
  "cells": [
    {
      "cell_type": "markdown",
      "metadata": {
        "id": "i3N-DoDV1hM1"
      },
      "source": [
        "# Install And Import..."
      ]
    },
    {
      "cell_type": "markdown",
      "metadata": {
        "id": "72B_Pjf70nJU"
      },
      "source": [
        "#** PIP INSTALL block**\n",
        "\n",
        "Installing all required libraries."
      ]
    },
    {
      "cell_type": "code",
      "execution_count": 1,
      "metadata": {
        "id": "-L9JD-CzDjuP",
        "colab": {
          "base_uri": "https://localhost:8080/"
        },
        "outputId": "c99ef050-4e40-44e1-af84-490eb459795e"
      },
      "outputs": [
        {
          "output_type": "stream",
          "name": "stdout",
          "text": [
            "Collecting fuzzywuzzy\n",
            "  Downloading fuzzywuzzy-0.18.0-py2.py3-none-any.whl.metadata (4.9 kB)\n",
            "Downloading fuzzywuzzy-0.18.0-py2.py3-none-any.whl (18 kB)\n",
            "Installing collected packages: fuzzywuzzy\n",
            "Successfully installed fuzzywuzzy-0.18.0\n",
            "Collecting python-Levenshtein\n",
            "  Downloading python_Levenshtein-0.26.1-py3-none-any.whl.metadata (3.7 kB)\n",
            "Collecting Levenshtein==0.26.1 (from python-Levenshtein)\n",
            "  Downloading levenshtein-0.26.1-cp310-cp310-manylinux_2_17_x86_64.manylinux2014_x86_64.whl.metadata (3.2 kB)\n",
            "Collecting rapidfuzz<4.0.0,>=3.9.0 (from Levenshtein==0.26.1->python-Levenshtein)\n",
            "  Downloading rapidfuzz-3.10.1-cp310-cp310-manylinux_2_17_x86_64.manylinux2014_x86_64.whl.metadata (11 kB)\n",
            "Downloading python_Levenshtein-0.26.1-py3-none-any.whl (9.4 kB)\n",
            "Downloading levenshtein-0.26.1-cp310-cp310-manylinux_2_17_x86_64.manylinux2014_x86_64.whl (162 kB)\n",
            "\u001b[2K   \u001b[90m━━━━━━━━━━━━━━━━━━━━━━━━━━━━━━━━━━━━━━━━\u001b[0m \u001b[32m162.6/162.6 kB\u001b[0m \u001b[31m4.2 MB/s\u001b[0m eta \u001b[36m0:00:00\u001b[0m\n",
            "\u001b[?25hDownloading rapidfuzz-3.10.1-cp310-cp310-manylinux_2_17_x86_64.manylinux2014_x86_64.whl (3.1 MB)\n",
            "\u001b[2K   \u001b[90m━━━━━━━━━━━━━━━━━━━━━━━━━━━━━━━━━━━━━━━━\u001b[0m \u001b[32m3.1/3.1 MB\u001b[0m \u001b[31m42.9 MB/s\u001b[0m eta \u001b[36m0:00:00\u001b[0m\n",
            "\u001b[?25hInstalling collected packages: rapidfuzz, Levenshtein, python-Levenshtein\n",
            "Successfully installed Levenshtein-0.26.1 python-Levenshtein-0.26.1 rapidfuzz-3.10.1\n",
            "Requirement already satisfied: sympy in /usr/local/lib/python3.10/dist-packages (1.13.1)\n",
            "Requirement already satisfied: mpmath<1.4,>=1.1.0 in /usr/local/lib/python3.10/dist-packages (from sympy) (1.3.0)\n",
            "Collecting fpdf\n",
            "  Downloading fpdf-1.7.2.tar.gz (39 kB)\n",
            "  Preparing metadata (setup.py) ... \u001b[?25l\u001b[?25hdone\n",
            "Building wheels for collected packages: fpdf\n",
            "  Building wheel for fpdf (setup.py) ... \u001b[?25l\u001b[?25hdone\n",
            "  Created wheel for fpdf: filename=fpdf-1.7.2-py2.py3-none-any.whl size=40704 sha256=45c2fe739024ae315bbb816e4b84bd4d87280bc06fc4e00e71dc3416ef5ce8d7\n",
            "  Stored in directory: /root/.cache/pip/wheels/f9/95/ba/f418094659025eb9611f17cbcaf2334236bf39a0c3453ea455\n",
            "Successfully built fpdf\n",
            "Installing collected packages: fpdf\n",
            "Successfully installed fpdf-1.7.2\n",
            "Requirement already satisfied: statsmodels in /usr/local/lib/python3.10/dist-packages (0.14.4)\n",
            "Requirement already satisfied: numpy<3,>=1.22.3 in /usr/local/lib/python3.10/dist-packages (from statsmodels) (1.26.4)\n",
            "Requirement already satisfied: scipy!=1.9.2,>=1.8 in /usr/local/lib/python3.10/dist-packages (from statsmodels) (1.13.1)\n",
            "Requirement already satisfied: pandas!=2.1.0,>=1.4 in /usr/local/lib/python3.10/dist-packages (from statsmodels) (2.2.2)\n",
            "Requirement already satisfied: patsy>=0.5.6 in /usr/local/lib/python3.10/dist-packages (from statsmodels) (1.0.1)\n",
            "Requirement already satisfied: packaging>=21.3 in /usr/local/lib/python3.10/dist-packages (from statsmodels) (24.2)\n",
            "Requirement already satisfied: python-dateutil>=2.8.2 in /usr/local/lib/python3.10/dist-packages (from pandas!=2.1.0,>=1.4->statsmodels) (2.8.2)\n",
            "Requirement already satisfied: pytz>=2020.1 in /usr/local/lib/python3.10/dist-packages (from pandas!=2.1.0,>=1.4->statsmodels) (2024.2)\n",
            "Requirement already satisfied: tzdata>=2022.7 in /usr/local/lib/python3.10/dist-packages (from pandas!=2.1.0,>=1.4->statsmodels) (2024.2)\n",
            "Requirement already satisfied: six>=1.5 in /usr/local/lib/python3.10/dist-packages (from python-dateutil>=2.8.2->pandas!=2.1.0,>=1.4->statsmodels) (1.16.0)\n"
          ]
        }
      ],
      "source": [
        "!pip install fuzzywuzzy\n",
        "!pip install python-Levenshtein\n",
        "!pip install sympy\n",
        "!pip install fpdf\n",
        "!pip install statsmodels"
      ]
    },
    {
      "cell_type": "markdown",
      "source": [
        "Installing LLM Models"
      ],
      "metadata": {
        "id": "jAX_xVZOw0NP"
      }
    },
    {
      "cell_type": "code",
      "source": [
        "!pip install llama-stack"
      ],
      "metadata": {
        "colab": {
          "base_uri": "https://localhost:8080/"
        },
        "id": "6vON5hgfw0By",
        "outputId": "fe173a22-986a-4485-9a66-dbe8ece9170f"
      },
      "execution_count": 34,
      "outputs": [
        {
          "output_type": "stream",
          "name": "stdout",
          "text": [
            "Collecting llama-stack\n",
            "  Downloading llama_stack-0.0.58-py3-none-any.whl.metadata (12 kB)\n",
            "Collecting blobfile (from llama-stack)\n",
            "  Downloading blobfile-3.0.0-py3-none-any.whl.metadata (15 kB)\n",
            "Collecting fire (from llama-stack)\n",
            "  Downloading fire-0.7.0.tar.gz (87 kB)\n",
            "\u001b[2K     \u001b[90m━━━━━━━━━━━━━━━━━━━━━━━━━━━━━━━━━━━━━━━━\u001b[0m \u001b[32m87.2/87.2 kB\u001b[0m \u001b[31m2.9 MB/s\u001b[0m eta \u001b[36m0:00:00\u001b[0m\n",
            "\u001b[?25h  Preparing metadata (setup.py) ... \u001b[?25l\u001b[?25hdone\n",
            "Requirement already satisfied: httpx in /usr/local/lib/python3.10/dist-packages (from llama-stack) (0.28.0)\n",
            "Requirement already satisfied: huggingface-hub in /usr/local/lib/python3.10/dist-packages (from llama-stack) (0.26.3)\n",
            "Collecting llama-models>=0.0.58 (from llama-stack)\n",
            "  Downloading llama_models-0.0.58-py3-none-any.whl.metadata (8.2 kB)\n",
            "Collecting llama-stack-client>=0.0.58 (from llama-stack)\n",
            "  Downloading llama_stack_client-0.0.58-py3-none-any.whl.metadata (15 kB)\n",
            "Requirement already satisfied: prompt-toolkit in /usr/local/lib/python3.10/dist-packages (from llama-stack) (3.0.48)\n",
            "Collecting python-dotenv (from llama-stack)\n",
            "  Downloading python_dotenv-1.0.1-py3-none-any.whl.metadata (23 kB)\n",
            "Requirement already satisfied: pydantic>=2 in /usr/local/lib/python3.10/dist-packages (from llama-stack) (2.10.3)\n",
            "Requirement already satisfied: requests in /usr/local/lib/python3.10/dist-packages (from llama-stack) (2.32.3)\n",
            "Requirement already satisfied: rich in /usr/local/lib/python3.10/dist-packages (from llama-stack) (13.9.4)\n",
            "Requirement already satisfied: setuptools in /usr/local/lib/python3.10/dist-packages (from llama-stack) (75.1.0)\n",
            "Requirement already satisfied: termcolor in /usr/local/lib/python3.10/dist-packages (from llama-stack) (2.5.0)\n",
            "Requirement already satisfied: PyYAML in /usr/local/lib/python3.10/dist-packages (from llama-models>=0.0.58->llama-stack) (6.0.2)\n",
            "Requirement already satisfied: jinja2 in /usr/local/lib/python3.10/dist-packages (from llama-models>=0.0.58->llama-stack) (3.1.4)\n",
            "Collecting tiktoken (from llama-models>=0.0.58->llama-stack)\n",
            "  Downloading tiktoken-0.8.0-cp310-cp310-manylinux_2_17_x86_64.manylinux2014_x86_64.whl.metadata (6.6 kB)\n",
            "Requirement already satisfied: Pillow in /usr/local/lib/python3.10/dist-packages (from llama-models>=0.0.58->llama-stack) (11.0.0)\n",
            "Requirement already satisfied: anyio<5,>=3.5.0 in /usr/local/lib/python3.10/dist-packages (from llama-stack-client>=0.0.58->llama-stack) (3.7.1)\n",
            "Requirement already satisfied: click in /usr/local/lib/python3.10/dist-packages (from llama-stack-client>=0.0.58->llama-stack) (8.1.7)\n",
            "Requirement already satisfied: distro<2,>=1.7.0 in /usr/local/lib/python3.10/dist-packages (from llama-stack-client>=0.0.58->llama-stack) (1.9.0)\n",
            "Requirement already satisfied: pandas in /usr/local/lib/python3.10/dist-packages (from llama-stack-client>=0.0.58->llama-stack) (2.2.2)\n",
            "Collecting pyaml (from llama-stack-client>=0.0.58->llama-stack)\n",
            "  Downloading pyaml-24.9.0-py3-none-any.whl.metadata (11 kB)\n",
            "Requirement already satisfied: sniffio in /usr/local/lib/python3.10/dist-packages (from llama-stack-client>=0.0.58->llama-stack) (1.3.1)\n",
            "Requirement already satisfied: tqdm in /usr/local/lib/python3.10/dist-packages (from llama-stack-client>=0.0.58->llama-stack) (4.66.6)\n",
            "Requirement already satisfied: typing-extensions<5,>=4.7 in /usr/local/lib/python3.10/dist-packages (from llama-stack-client>=0.0.58->llama-stack) (4.12.2)\n",
            "Requirement already satisfied: certifi in /usr/local/lib/python3.10/dist-packages (from httpx->llama-stack) (2024.8.30)\n",
            "Requirement already satisfied: httpcore==1.* in /usr/local/lib/python3.10/dist-packages (from httpx->llama-stack) (1.0.7)\n",
            "Requirement already satisfied: idna in /usr/local/lib/python3.10/dist-packages (from httpx->llama-stack) (3.10)\n",
            "Requirement already satisfied: h11<0.15,>=0.13 in /usr/local/lib/python3.10/dist-packages (from httpcore==1.*->httpx->llama-stack) (0.14.0)\n",
            "Requirement already satisfied: annotated-types>=0.6.0 in /usr/local/lib/python3.10/dist-packages (from pydantic>=2->llama-stack) (0.7.0)\n",
            "Requirement already satisfied: pydantic-core==2.27.1 in /usr/local/lib/python3.10/dist-packages (from pydantic>=2->llama-stack) (2.27.1)\n",
            "Collecting pycryptodomex>=3.8 (from blobfile->llama-stack)\n",
            "  Downloading pycryptodomex-3.21.0-cp36-abi3-manylinux_2_17_x86_64.manylinux2014_x86_64.whl.metadata (3.4 kB)\n",
            "Requirement already satisfied: urllib3<3,>=1.25.3 in /usr/local/lib/python3.10/dist-packages (from blobfile->llama-stack) (2.2.3)\n",
            "Requirement already satisfied: lxml>=4.9 in /usr/local/lib/python3.10/dist-packages (from blobfile->llama-stack) (5.3.0)\n",
            "Requirement already satisfied: filelock>=3.0 in /usr/local/lib/python3.10/dist-packages (from blobfile->llama-stack) (3.16.1)\n",
            "Requirement already satisfied: fsspec>=2023.5.0 in /usr/local/lib/python3.10/dist-packages (from huggingface-hub->llama-stack) (2024.10.0)\n",
            "Requirement already satisfied: packaging>=20.9 in /usr/local/lib/python3.10/dist-packages (from huggingface-hub->llama-stack) (24.2)\n",
            "Requirement already satisfied: wcwidth in /usr/local/lib/python3.10/dist-packages (from prompt-toolkit->llama-stack) (0.2.13)\n",
            "Requirement already satisfied: charset-normalizer<4,>=2 in /usr/local/lib/python3.10/dist-packages (from requests->llama-stack) (3.4.0)\n",
            "Requirement already satisfied: markdown-it-py>=2.2.0 in /usr/local/lib/python3.10/dist-packages (from rich->llama-stack) (3.0.0)\n",
            "Requirement already satisfied: pygments<3.0.0,>=2.13.0 in /usr/local/lib/python3.10/dist-packages (from rich->llama-stack) (2.18.0)\n",
            "Requirement already satisfied: exceptiongroup in /usr/local/lib/python3.10/dist-packages (from anyio<5,>=3.5.0->llama-stack-client>=0.0.58->llama-stack) (1.2.2)\n",
            "Requirement already satisfied: mdurl~=0.1 in /usr/local/lib/python3.10/dist-packages (from markdown-it-py>=2.2.0->rich->llama-stack) (0.1.2)\n",
            "Requirement already satisfied: MarkupSafe>=2.0 in /usr/local/lib/python3.10/dist-packages (from jinja2->llama-models>=0.0.58->llama-stack) (3.0.2)\n",
            "Requirement already satisfied: numpy>=1.22.4 in /usr/local/lib/python3.10/dist-packages (from pandas->llama-stack-client>=0.0.58->llama-stack) (1.26.4)\n",
            "Requirement already satisfied: python-dateutil>=2.8.2 in /usr/local/lib/python3.10/dist-packages (from pandas->llama-stack-client>=0.0.58->llama-stack) (2.8.2)\n",
            "Requirement already satisfied: pytz>=2020.1 in /usr/local/lib/python3.10/dist-packages (from pandas->llama-stack-client>=0.0.58->llama-stack) (2024.2)\n",
            "Requirement already satisfied: tzdata>=2022.7 in /usr/local/lib/python3.10/dist-packages (from pandas->llama-stack-client>=0.0.58->llama-stack) (2024.2)\n",
            "Requirement already satisfied: regex>=2022.1.18 in /usr/local/lib/python3.10/dist-packages (from tiktoken->llama-models>=0.0.58->llama-stack) (2024.9.11)\n",
            "Requirement already satisfied: six>=1.5 in /usr/local/lib/python3.10/dist-packages (from python-dateutil>=2.8.2->pandas->llama-stack-client>=0.0.58->llama-stack) (1.16.0)\n",
            "Downloading llama_stack-0.0.58-py3-none-any.whl (446 kB)\n",
            "\u001b[2K   \u001b[90m━━━━━━━━━━━━━━━━━━━━━━━━━━━━━━━━━━━━━━━━\u001b[0m \u001b[32m446.3/446.3 kB\u001b[0m \u001b[31m11.5 MB/s\u001b[0m eta \u001b[36m0:00:00\u001b[0m\n",
            "\u001b[?25hDownloading llama_models-0.0.58-py3-none-any.whl (1.6 MB)\n",
            "\u001b[2K   \u001b[90m━━━━━━━━━━━━━━━━━━━━━━━━━━━━━━━━━━━━━━━━\u001b[0m \u001b[32m1.6/1.6 MB\u001b[0m \u001b[31m35.4 MB/s\u001b[0m eta \u001b[36m0:00:00\u001b[0m\n",
            "\u001b[?25hDownloading llama_stack_client-0.0.58-py3-none-any.whl (286 kB)\n",
            "\u001b[2K   \u001b[90m━━━━━━━━━━━━━━━━━━━━━━━━━━━━━━━━━━━━━━━━\u001b[0m \u001b[32m286.1/286.1 kB\u001b[0m \u001b[31m15.0 MB/s\u001b[0m eta \u001b[36m0:00:00\u001b[0m\n",
            "\u001b[?25hDownloading blobfile-3.0.0-py3-none-any.whl (75 kB)\n",
            "\u001b[2K   \u001b[90m━━━━━━━━━━━━━━━━━━━━━━━━━━━━━━━━━━━━━━━━\u001b[0m \u001b[32m75.4/75.4 kB\u001b[0m \u001b[31m4.2 MB/s\u001b[0m eta \u001b[36m0:00:00\u001b[0m\n",
            "\u001b[?25hDownloading python_dotenv-1.0.1-py3-none-any.whl (19 kB)\n",
            "Downloading pycryptodomex-3.21.0-cp36-abi3-manylinux_2_17_x86_64.manylinux2014_x86_64.whl (2.3 MB)\n",
            "\u001b[2K   \u001b[90m━━━━━━━━━━━━━━━━━━━━━━━━━━━━━━━━━━━━━━━━\u001b[0m \u001b[32m2.3/2.3 MB\u001b[0m \u001b[31m43.9 MB/s\u001b[0m eta \u001b[36m0:00:00\u001b[0m\n",
            "\u001b[?25hDownloading pyaml-24.9.0-py3-none-any.whl (24 kB)\n",
            "Downloading tiktoken-0.8.0-cp310-cp310-manylinux_2_17_x86_64.manylinux2014_x86_64.whl (1.2 MB)\n",
            "\u001b[2K   \u001b[90m━━━━━━━━━━━━━━━━━━━━━━━━━━━━━━━━━━━━━━━━\u001b[0m \u001b[32m1.2/1.2 MB\u001b[0m \u001b[31m36.5 MB/s\u001b[0m eta \u001b[36m0:00:00\u001b[0m\n",
            "\u001b[?25hBuilding wheels for collected packages: fire\n",
            "  Building wheel for fire (setup.py) ... \u001b[?25l\u001b[?25hdone\n",
            "  Created wheel for fire: filename=fire-0.7.0-py3-none-any.whl size=114249 sha256=9c902b23523bfbc2b51a1d7c89f5453af2bd9cfe94f8ab8d28ecc001be0e905c\n",
            "  Stored in directory: /root/.cache/pip/wheels/19/39/2f/2d3cadc408a8804103f1c34ddd4b9f6a93497b11fa96fe738e\n",
            "Successfully built fire\n",
            "Installing collected packages: python-dotenv, pycryptodomex, pyaml, fire, tiktoken, blobfile, llama-stack-client, llama-models, llama-stack\n",
            "Successfully installed blobfile-3.0.0 fire-0.7.0 llama-models-0.0.58 llama-stack-0.0.58 llama-stack-client-0.0.58 pyaml-24.9.0 pycryptodomex-3.21.0 python-dotenv-1.0.1 tiktoken-0.8.0\n"
          ]
        }
      ]
    },
    {
      "cell_type": "code",
      "source": [
        "llama model list"
      ],
      "metadata": {
        "colab": {
          "base_uri": "https://localhost:8080/",
          "height": 108
        },
        "id": "RGAxd9bRxDm7",
        "outputId": "2a8ae2db-9863-4d0d-fce9-5a5559f31ada"
      },
      "execution_count": 35,
      "outputs": [
        {
          "output_type": "error",
          "ename": "SyntaxError",
          "evalue": "invalid syntax (<ipython-input-35-9f2d364b119d>, line 1)",
          "traceback": [
            "\u001b[0;36m  File \u001b[0;32m\"<ipython-input-35-9f2d364b119d>\"\u001b[0;36m, line \u001b[0;32m1\u001b[0m\n\u001b[0;31m    llama model list\u001b[0m\n\u001b[0m          ^\u001b[0m\n\u001b[0;31mSyntaxError\u001b[0m\u001b[0;31m:\u001b[0m invalid syntax\n"
          ]
        }
      ]
    },
    {
      "cell_type": "markdown",
      "metadata": {
        "id": "KKk3rwti1FEu"
      },
      "source": [
        "# **# Import block**\n",
        "\n",
        "Importing all required libraries."
      ]
    },
    {
      "cell_type": "code",
      "execution_count": 2,
      "metadata": {
        "id": "mPzDBokSzpER"
      },
      "outputs": [],
      "source": [
        "from google.colab import auth\n",
        "\n",
        "import gspread\n",
        "from google.auth import default\n",
        "\n",
        "import pandas as pd\n",
        "from fuzzywuzzy import process, fuzz\n",
        "import re\n",
        "from fpdf import FPDF\n",
        "from google.colab import drive\n",
        "import shutil\n",
        "\n",
        "from google.colab import drive\n",
        "\n",
        "import subprocess\n",
        "\n",
        "import numpy as np\n",
        "\n",
        "import matplotlib.pyplot as plt\n",
        "\n",
        "import statsmodels.api as sm"
      ]
    },
    {
      "cell_type": "markdown",
      "metadata": {
        "id": "LryfiEk81YJk"
      },
      "source": [
        "# Authorizing Google User"
      ]
    },
    {
      "cell_type": "code",
      "execution_count": 3,
      "metadata": {
        "id": "XaLPr8asTvhZ"
      },
      "outputs": [],
      "source": [
        "auth.authenticate_user()"
      ]
    },
    {
      "cell_type": "markdown",
      "metadata": {
        "id": "19ZZGvHM1eX2"
      },
      "source": [
        "# Authorizing GoogleSpreed\n",
        " to import data from Questionnaire response"
      ]
    },
    {
      "cell_type": "code",
      "execution_count": 4,
      "metadata": {
        "id": "qJtgYqtXgMNp"
      },
      "outputs": [],
      "source": [
        "\n",
        "  creds, _ = default()\n",
        "\n",
        "gs = gspread.authorize(creds)"
      ]
    },
    {
      "cell_type": "markdown",
      "metadata": {
        "id": "5VIaSw5t2vNX"
      },
      "source": [
        "# Mounting Google Drive"
      ]
    },
    {
      "cell_type": "code",
      "execution_count": 5,
      "metadata": {
        "id": "amu28yVGNrzD",
        "colab": {
          "base_uri": "https://localhost:8080/"
        },
        "outputId": "75972320-7a2c-4f49-8cc5-e12674b303b8"
      },
      "outputs": [
        {
          "output_type": "stream",
          "name": "stdout",
          "text": [
            "Mounted at /content/drive\n"
          ]
        }
      ],
      "source": [
        "drive.mount('/content/drive')"
      ]
    },
    {
      "cell_type": "markdown",
      "metadata": {
        "id": "OWV_vRaS15e_"
      },
      "source": [
        "# Storing the whole sheet in \"worksheetPrime\""
      ]
    },
    {
      "cell_type": "code",
      "execution_count": 6,
      "metadata": {
        "id": "kPETc1Hpgs17"
      },
      "outputs": [],
      "source": [
        "worksheetPrime = gs.open('Questionnaire 1  (Responses)').sheet1"
      ]
    },
    {
      "cell_type": "markdown",
      "metadata": {
        "id": "9YodE0Kb2BZm"
      },
      "source": [
        "# IDK what it is"
      ]
    },
    {
      "cell_type": "code",
      "execution_count": 7,
      "metadata": {
        "id": "8aVx7wjb0fKZ"
      },
      "outputs": [],
      "source": [
        "#Function to replace similar names with the most frequent one\n",
        "def correct_spelling_fuzzy(df, freq_dist, similarity_threshold=85):\n",
        "    # Create a copy of the DataFrame to avoid modifying the original\n",
        "    corrected_colleges = df['College Name '].copy()\n",
        "\n",
        "    # List to store which names are already corrected\n",
        "    corrected = {}\n",
        "\n",
        "    # Iterate over unique college names in the frequency table\n",
        "    for college in freq_dist.index:\n",
        "        if college in corrected:\n",
        "            # If this college name has already been corrected, skip it\n",
        "            continue\n",
        "\n",
        "        # Find similar names using fuzzy matching\n",
        "        similar_colleges = process.extract(college, freq_dist.index, scorer=fuzz.token_sort_ratio)\n",
        "\n",
        "\n",
        "        # Filter names that are similar based on the threshold\n",
        "        similar_colleges = [name for name, score in similar_colleges if score >= similarity_threshold]\n",
        "        #print(\"%%%%%%%%%%%%%%%%%%\")\n",
        "        ##print(similar_colleges)\n",
        "        #print(\"%%%%%%%%%%%%%%%%%%\")\n",
        "        # Get the most frequent similar name\n",
        "        most_frequent_college = max(similar_colleges, key=lambda name: freq_dist[name])\n",
        "        #print(most_frequent_college)\n",
        "\n",
        "        # Replace all similar names with the most frequent one\n",
        "        for similar in similar_colleges:\n",
        "            corrected[similar] = most_frequent_college\n",
        "            corrected_colleges.replace(similar, most_frequent_college, inplace=True)\n",
        "\n",
        "    return corrected_colleges"
      ]
    },
    {
      "cell_type": "markdown",
      "metadata": {
        "id": "OvC597r82E5C"
      },
      "source": [
        "# DATA CLEAN : LVL 1\n",
        "\n",
        "1) Converting the shhet to DataFrame\n",
        "\n",
        "2) Cleaning the Column : College Name\n",
        "\n",
        "3) Creting Freq Dist. Table for **College Name and it's count**"
      ]
    },
    {
      "cell_type": "code",
      "execution_count": 8,
      "metadata": {
        "id": "HmryvkgvhLi8",
        "colab": {
          "base_uri": "https://localhost:8080/"
        },
        "outputId": "6576bf86-0f45-4082-8a43-58409cb55063"
      },
      "outputs": [
        {
          "output_type": "stream",
          "name": "stdout",
          "text": [
            "College Name \n",
            "sister nivedita university                         27\n",
            "institute of engineering and management            16\n",
            "st xaviers university                              13\n",
            "techno international                                9\n",
            "jadavpur university                                 9\n",
            "                                                   ..\n",
            "indian institutes of technology madras              1\n",
            "heritage college                                    1\n",
            "iiest shibpur                                       1\n",
            "heritage law college                                1\n",
            "st thomas college of engineering and technology     1\n",
            "Name: count, Length: 61, dtype: int64\n",
            "No. of colleges: 61\n",
            "total: 191\n"
          ]
        }
      ],
      "source": [
        "\n",
        "rows = worksheetPrime.get_all_values()\n",
        "df = pd.DataFrame(rows).reset_index(drop=True)\n",
        "df.columns = df.iloc[0]\n",
        "\n",
        "df.drop(columns=['Timestamp', 'Email address','Name\\n'], inplace=True)\n",
        "\n",
        "# Calculate frequency distribution\n",
        "freq_dist = df['College Name '].value_counts()\n",
        "\n",
        "df['College Name '] = df['College Name '].str.lower().str.strip().apply(lambda x: re.sub(r'[^A-Za-z0-9 ]+', '', x))\n",
        "df['College Name '] = correct_spelling_fuzzy(df, freq_dist)\n",
        "\n",
        "college_mapping = {\n",
        "    'iem': 'institute of engineering and management',\n",
        "    #'institute of engineering and management kolkata':'institute of engineering and management',\n",
        "    #'iem salt lake': 'institute of engineering and management',\n",
        "    #'amity university kolkata': 'amity university',\n",
        "    'techno international new town': 'techno international',\n",
        "    'techno international newtown':'techno international',\n",
        "    'calcutta university':'university of calcutta',\n",
        "    'snu': 'sister nivedita university',\n",
        "    'university of engineering  management':'university of engineering and management',\n",
        "    'thk jain':'Tara Devi Harakh Chand Kankaria Jain College'.lower(),\n",
        "    'fiem':'Future Institute of Engineering and Management'.lower(),\n",
        "    \"st. xavier's college, kolkata\" : \"st. xavier's college\",\n",
        "    \"st xaviers college kolkata\" : \"st xaviers college\",\n",
        "    \"st xaviers autonomous kolkata\" : \"st xaviers college\",\n",
        "    'st xaviers universitykolkata':\"st xaviers university\",\n",
        "    'techno india':'techno india university',\n",
        "    'besc':'the bhawanipur educational society college',\n",
        "    'the bhawanipur educational society':'the bhawanipur educational society college',\n",
        "    \"the bhawanipore education society\":\"the bhawanipur educational society college\",\n",
        "    'techno main salt lake':'techno india university',\n",
        "    'the bhawanipur college':'the bhawanipur educational society college',\n",
        "    'drsudhir chandra sur institute of technology and sports complex':'dr sudhir chandra sur institute of technology and sports complex',\n",
        "    #'rkmrc':'Ramakrishna Mission Residential College'.lower(),\n",
        "    'auk':'amity university'\n",
        "\n",
        "}\n",
        "df['College Name '] = df['College Name '].map(college_mapping).fillna(df['College Name '])\n",
        "\n",
        "df['College Name '] = df['College Name '].replace(r'.*institute of engineering and management.*', 'institute of engineering and management', regex=True)\n",
        "df['College Name '] = df['College Name '].replace(r'.*university of calcutta.*', 'university of calcutta', regex=True)\n",
        "\n",
        "df['College Name '] = df['College Name '].replace(r'.*xaviers.*college.*', 'st xaviers college (autonomous)', regex=True)\n",
        "df['College Name '] = df['College Name '].replace(r'.*xaviers university.*', 'st xaviers university', regex=True)\n",
        "df['College Name '] = df['College Name '].replace(r'.*iem.*', 'institute of engineering and management', regex=True)\n",
        "df['College Name '] = df['College Name '].replace(r'.*amity.*', 'amity university', regex=True)\n",
        "df['College Name '] = df['College Name '].replace(r'.*sivanth sastri*', 'sivnath sastri college', regex=True)\n",
        "df['College Name '] = df['College Name '].replace(r'.*west bengal national university of juridical sciences*', 'the west bengal national university of juridical sciences', regex=True)\n",
        "df['College Name '] = df['College Name '].replace(r'.*university of engineering and management .*', 'university of engineering and management', regex=True)\n",
        "df['College Name '] = df['College Name '].replace(r'.*rkmrc.*', 'Ramakrishna Mission Residential College'.lower(), regex=True)\n",
        "df['College Name '] = df['College Name '].replace(r'.*presidency university.*', 'presidency university'.lower(), regex=True)\n",
        "\n",
        "df = df[df['College Name '] != 'drop out']  #drop out students are not taking under population so do in sample.\n",
        "\n",
        "frequency_table = df[df['College Name ']!= 'college name']['College Name '].value_counts()\n",
        "print(frequency_table)\n",
        "total_frequency = frequency_table.sum()\n",
        "#print(df['College Name '].unique())\n",
        "cOnt=len(df['College Name '].unique())-1\n",
        "print(\"No. of colleges:\", cOnt)\n",
        "print(\"total:\",total_frequency )"
      ]
    },
    {
      "cell_type": "markdown",
      "metadata": {
        "id": "XeBxAqum2kXI"
      },
      "source": [
        "# Exporting the Freq. Dist Table in PDF format"
      ]
    },
    {
      "cell_type": "code",
      "execution_count": 9,
      "metadata": {
        "id": "lhMf-onsz1sM",
        "colab": {
          "base_uri": "https://localhost:8080/"
        },
        "outputId": "cc86717b-635c-4da6-98df-d2ad1a131099"
      },
      "outputs": [
        {
          "output_type": "stream",
          "name": "stdout",
          "text": [
            "File uploaded to shared folder successfully!\n"
          ]
        }
      ],
      "source": [
        "# Create an instance of FPDF\n",
        "pdf = FPDF()\n",
        "\n",
        "# Add a page\n",
        "pdf.add_page()\n",
        "\n",
        "# Set the font for the PDF: (font name, style, size)\n",
        "pdf.set_font(\"Arial\", 'B', 16)\n",
        "\n",
        "# Add a title\n",
        "pdf.cell(200, 10, txt=\"Data to PDF\", ln=True, align='C')\n",
        "\n",
        "# Add another line of text\n",
        "pdf.set_font(\"Arial\", 'B', 12)\n",
        "\n",
        "pdf.set_font(\"Arial\", 'B', 12)\n",
        "pdf.cell(140, 10, 'College Name', border=1, align='C')\n",
        "pdf.cell(50, 10, 'Frequency', border=1, ln=True, align='C')\n",
        "\n",
        "# Set font for table body\n",
        "pdf.set_font(\"Arial\", '', 12)\n",
        "\n",
        "# Add frequency table rows to the PDF in a well-aligned table format\n",
        "for index, value in frequency_table.items():\n",
        "    pdf.cell(140, 10, index, border=1)  # College name column\n",
        "    pdf.cell(50, 10, str(value), border=1, ln=True)  # Frequency column\n",
        "\n",
        "# Add total frequency and number of unique colleges\n",
        "pdf.ln(10)\n",
        "pdf.set_font(\"Arial\", 'B', 12)\n",
        "pdf.cell(140, 10, 'No. of colleges:', border=1)\n",
        "pdf.cell(50, 10, str(cOnt), border=1, ln=True)\n",
        "\n",
        "pdf.cell(140, 10, 'Total frequency:', border=1)\n",
        "pdf.cell(50, 10, str(total_frequency), border=1, ln=True)\n",
        "\n",
        "pdf.output(f'sample_output_@{total_frequency}.pdf')\n",
        "\n",
        "\n",
        "file_to_upload = f'sample_output_@{total_frequency}.pdf'\n",
        "\n",
        "# Specify the target folder path in Google Drive (shared folder)\n",
        "target_folder = '/content/drive/MyDrive/pdf files'\n",
        "\n",
        "# Copy the file to the shared folder\n",
        "shutil.copy(file_to_upload, target_folder)\n",
        "\n",
        "print('File uploaded to shared folder successfully!')"
      ]
    },
    {
      "cell_type": "markdown",
      "metadata": {
        "id": "eyQmNzXh3F9y"
      },
      "source": [
        "# For Latex, which I haven't used"
      ]
    },
    {
      "cell_type": "code",
      "execution_count": 10,
      "metadata": {
        "id": "p-8CgLsWqvEB"
      },
      "outputs": [],
      "source": [
        "frequency_df = frequency_table.reset_index()\n",
        "frequency_df.columns = ['College Name', 'Frequency']\n",
        "\n",
        "# Convert the DataFrame to LaTeX format\n",
        "latex_table = frequency_df.to_latex(index=False)\n",
        "\n",
        "# Print the LaTeX table\n",
        "#print(latex_table)\n",
        "\n",
        "latex_code = r'''\n",
        "\\documentclass{article}\n",
        "\\usepackage{booktabs}\n",
        "\\begin{document}\n",
        "\\begin{center}\n",
        "\\textbf{Frequency Table} \\\\[10pt]\n",
        "''' + latex_table + r'''\n",
        "\\end{center}\n",
        "\\end{document}\n",
        "'''\n",
        "\n"
      ]
    },
    {
      "cell_type": "markdown",
      "metadata": {
        "id": "wXfBST234MZ-"
      },
      "source": [
        "# DATA CLEAN : LVL 2.0\n",
        "1) Filter data set based on CONSENT\n",
        "\n",
        "2) Dropping few non-required columns\n",
        "\n",
        "3) Dropping CONSENT column\n",
        "\n",
        "4) Renaming Columns as per requirments."
      ]
    },
    {
      "cell_type": "code",
      "execution_count": 11,
      "metadata": {
        "id": "czKziNlF4KHh"
      },
      "outputs": [],
      "source": [
        "df2=df[df['Do you consent to the use of the information provided in this form for analysis and research purposes? Your data will be handled confidentially and used solely for academic or research objectives. [ Put it on the top]'] == 'Yes, I consent'].reset_index()\n",
        "\n",
        "df2=df2.drop(\"How many earning people are there in your family? \", axis=1)\n",
        "\n",
        "df2=df2.drop(\"Highest Qualification of your parents\", axis=1)\n",
        "\n",
        "df2=df2.drop(\"On a scale of 1-5 what will you rate your chosen career as a stable one. [# not required]\", axis=1)\n",
        "\n",
        "\n",
        "df2=df2.drop(\"Do you consent to the use of the information provided in this form for analysis and research purposes? Your data will be handled confidentially and used solely for academic or research objectives. [ Put it on the top]\", axis=1)\n",
        "\n",
        "df2 = df2.rename(columns={'On scale 1-5 what do you think about the influence from your friends towards you for choosing your career path':'friend_influence','On scale 1-5 what do you think about the influence from your teacher/mentor towards you for choosing your career path':'mentor_influence','On scale 1-5 what do you think your career choice has been affected by social or cultural expectations.':'social_expectations','On a scale of 1-5 how much social media has affected your career choices in recent days.':'social_media_influence','Do you feel that Your choosen degree aligns with your personal choice':'personal_choice','On scale 1-5 what do you think about the influence from your parents towards you for choosing your career path':'parents_influence'})\n",
        "\n",
        "df2 = df2.rename(columns={'Are you involved with any co-curricular activities? Please mention':'co-curricular activity','What was your motivation/factors behind choosing your current Stream of study?':'motivation','How much you are satisfied with your chosen Stream of study':'satisfaction','How much do you feel this degree is easy for you?':'easy','What is your preferred Working Sector?(E.g.private sector or public sector or IT sector e.t.c)':'preffed sector','Which profession you would like to pursue in future ? (e.g., data scientist , modelling, entrepreneurship) ':'profession','Your current CGPA?':'CGPA','Annual Family Income (appx)':'Family_income','How much can you invest on your in education ? (in lakhs)': 'Spending','What is your expected salary (in Lakhs Per Annum) ':'Expected_salary','By what age do you want to settle in your career?': 'Age','Subject of Specialisation [With which subject you are pursing the degree]': 'Subject', 'Percentage obtained in Class X': 'Percent_10', 'Percentage obtained in Class XII': 'Percent_12','Favourite Subject(s) till Class X and marks obtained in that subject':'fav_marks_X','Favourite Subject(s) till Class XII and marks obtained in that subject':'fav_marks_XII'})\n"
      ]
    },
    {
      "cell_type": "markdown",
      "metadata": {
        "id": "DBK9_2e15Cex"
      },
      "source": [
        "Uploding Filtered dataset (csv) to Drive"
      ]
    },
    {
      "cell_type": "code",
      "execution_count": 12,
      "metadata": {
        "id": "cOeOyyKMNFXa"
      },
      "outputs": [],
      "source": [
        "df2.to_csv('/content/drive/MyDrive/pdf files/output.csv', index=False)"
      ]
    },
    {
      "cell_type": "markdown",
      "metadata": {
        "id": "o6HVmbgX5OK_"
      },
      "source": [
        "# Work on Filtered DataSet\n",
        "1) Creting Freq Dist. Table for **College Name and it's count**\n",
        "2) Exporting Freq. Dist. table as PDF"
      ]
    },
    {
      "cell_type": "code",
      "execution_count": 13,
      "metadata": {
        "id": "nw0Ote-XSU19",
        "colab": {
          "base_uri": "https://localhost:8080/"
        },
        "outputId": "d364727e-9301-4822-99c7-6968e97f1304"
      },
      "outputs": [
        {
          "output_type": "stream",
          "name": "stdout",
          "text": [
            "College Name \n",
            "sister nivedita university                                          26\n",
            "institute of engineering and management                             16\n",
            "st xaviers university                                               13\n",
            "jadavpur university                                                  9\n",
            "techno international                                                 8\n",
            "techno india university                                              7\n",
            "st xaviers college (autonomous)                                      7\n",
            "presidency university                                                6\n",
            "maulana azad college                                                 6\n",
            "asutosh college                                                      5\n",
            "surendranath college                                                 5\n",
            "amity university                                                     4\n",
            "university of engineering and management                             4\n",
            "university of calcutta                                               4\n",
            "the bhawanipur educational society college                           4\n",
            "netaji subhash engineering college                                   3\n",
            "ramakrishna mission residential college                              2\n",
            "sivnath sastri college                                               2\n",
            "scottish church college                                              2\n",
            "the west bengal national university of juridical sciences            2\n",
            "acharya jagadish chandra bose college                                2\n",
            "institute of business management                                     2\n",
            "vivekananda college                                                  2\n",
            "loreto college                                                       2\n",
            "tara devi harakh chand kankaria jain college                         2\n",
            "gurudas college                                                      2\n",
            "st pauls cathedral mission college                                   2\n",
            "shri shikshayatan college                                            2\n",
            "adamas university                                                    2\n",
            "gokhale memorial girls college                                       2\n",
            "parul university                                                     1\n",
            "st thomas college of engineering  technology                         1\n",
            "maharaja manindra chandra college                                    1\n",
            "vijaygarh jyotish ray college                                        1\n",
            "sister nibedita government general degree college for girls          1\n",
            "dr shyamaprasad mukherjee college                                    1\n",
            "jogesh chandra chowdhury law college                                 1\n",
            "jis university                                                       1\n",
            "indian institute of science education and research kolkata           1\n",
            "indian association for the cultivation of science                    1\n",
            "the heritage academy                                                 1\n",
            "ipgmer                                                               1\n",
            "vivekananda college thakurpukur                                      1\n",
            "brainware university                                                 1\n",
            "calcutta school of tropical medicine                                 1\n",
            "seth anandaram jaipuria                                              1\n",
            "nshm knowledge campus                                                1\n",
            "dayananda sagar college of engineering                               1\n",
            "dr sudhir chandra sur institute of technology and sports complex     1\n",
            "narasinha dutt college                                               1\n",
            "coochbehar government engineering college                            1\n",
            "govt college of engineering and leather technology                   1\n",
            "kusum devi sunderlal dugar jain college                              1\n",
            "calcutta girls high college                                          1\n",
            "swami vivekanand institute of science and technology                 1\n",
            "indian institutes of technology madras                               1\n",
            "heritage college                                                     1\n",
            "iiest shibpur                                                        1\n",
            "heritage law college                                                 1\n",
            "st thomas college of engineering and technology                      1\n",
            "Name: count, dtype: int64\n",
            "No. of colleges: 59\n",
            "total: 185\n",
            "File uploaded to shared folder successfully!\n"
          ]
        }
      ],
      "source": [
        "frequency_table2 = df2[df2['College Name ']!= 'college name']['College Name '].value_counts()\n",
        "print(frequency_table2)\n",
        "total_frequency = frequency_table2.sum()\n",
        "#print(df['College Name '].unique())\n",
        "cOnt=len(df2['College Name '].unique())-1\n",
        "print(\"No. of colleges:\", cOnt)\n",
        "print(\"total:\",total_frequency )\n",
        "\n",
        "#--------------------------------------------------------------------------------------------------------------------------------------------------\n",
        "# Create an instance of FPDF\n",
        "pdf2 = FPDF()\n",
        "\n",
        "# Add a page\n",
        "pdf2.add_page()\n",
        "\n",
        "# Set the font for the PDF: (font name, style, size)\n",
        "pdf2.set_font(\"Arial\", 'B', 16)\n",
        "\n",
        "# Add a title\n",
        "pdf2.cell(200, 10, txt=\"Data to PDF\", ln=True, align='C')\n",
        "\n",
        "# Add another line of text\n",
        "pdf2.set_font(\"Arial\", 'B', 12)\n",
        "pdf2.set_font(\"Arial\", 'B', 12)\n",
        "pdf2.cell(140, 10, 'College Names', border=1, align='C')\n",
        "pdf2.cell(50, 10, 'Frequency', border=1, ln=True, align='C')\n",
        "\n",
        "# Set font for table body\n",
        "pdf2.set_font(\"Arial\", '', 12)\n",
        "\n",
        "# Add frequency table rows to the PDF in a well-aligned table format\n",
        "for indexi, value2 in frequency_table2.items():\n",
        "    pdf2.cell(140, 10, indexi, border=1)  # College name column\n",
        "    pdf2.cell(50, 10, str(value2), border=1, ln=True)  # Frequency column\n",
        "\n",
        "# Add total frequency and number of unique colleges\n",
        "pdf2.ln(10)\n",
        "pdf2.set_font(\"Arial\", 'B', 12)\n",
        "pdf2.cell(140, 10, 'No. of colleges:', border=1)\n",
        "pdf2.cell(50, 10, str(cOnt), border=1, ln=True)\n",
        "\n",
        "pdf2.cell(140, 10, 'Total frequency:', border=1)\n",
        "pdf2.cell(50, 10, str(total_frequency), border=1, ln=True)\n",
        "\n",
        "pdf2.output(f'filter.1_output_@{total_frequency}.pdf')\n",
        "\n",
        "\n",
        "file_to_upload = f'filter.1_output_@{total_frequency}.pdf'\n",
        "\n",
        "# Specify the target folder path in Google Drive (shared folder)\n",
        "target_folder = '/content/drive/MyDrive/pdf files'\n",
        "\n",
        "# Copy the file to the shared folder\n",
        "shutil.copy(file_to_upload, target_folder)\n",
        "\n",
        "print('File uploaded to shared folder successfully!')"
      ]
    },
    {
      "cell_type": "markdown",
      "metadata": {
        "id": "qy1BL7wf6KO_"
      },
      "source": []
    },
    {
      "cell_type": "markdown",
      "metadata": {
        "id": "p_ncj-WZ52lf"
      },
      "source": [
        "# DATA CLEAN : LVL 2.1\n",
        "1) Assigning \"Genders\" : M - Male ; F - Female ; O - Others\n",
        "\n",
        "2) Dealing With \"Subjects of Specilization\"\n",
        "\n",
        "3) Uploading the output(csv) to Drive."
      ]
    },
    {
      "cell_type": "code",
      "source": [],
      "metadata": {
        "id": "ess9CHWiKN0f"
      },
      "execution_count": 13,
      "outputs": []
    },
    {
      "cell_type": "code",
      "execution_count": 14,
      "metadata": {
        "id": "P2sg6rt6Ncnp"
      },
      "outputs": [],
      "source": [
        "df2['Gender'] = df2['Gender'].apply(lambda x: 'M' if x == 'Male' else 'F' if x == 'Female' else 'O')\n",
        "\n",
        "\n",
        "\n",
        "df2['Subject'] = df2['Subject'].str.lower().str.strip().apply(lambda x: re.sub(r'[^A-Za-z0-9 ]+', '', x))\n",
        "df2['Subject'] = df2['Subject'].replace(r'.*statistic.*', 'Statistics'.lower(), regex=True)\n",
        "df2['Subject'] = df2['Subject'].replace(r'.*computer sc.*', 'computer science engineering', regex=True)\n",
        "df2['Subject'] = df2['Subject'].replace(r'.*cse.*', 'computer science engineering', regex=True)\n",
        "df2['Subject'] = df2['Subject'].replace(r'.*pharmacology.*', 'pharmacology'.lower(), regex=True)\n",
        "df2['Subject'] = df2['Subject'].replace(r'.*physics.*', 'Physics'.lower(), regex=True)\n",
        "df2['Subject'] = df2['Subject'].replace(r'.*microbiology .*', 'MicroBiology '.lower(), regex=True)\n",
        "df2['Subject'] = df2['Subject'].replace(r'.*mathematics.*', 'Mathematics'.lower(), regex=True)\n",
        "df2['Subject'] = df2['Subject'].replace(r'.*marketing.*', 'Marketing'.lower(), regex=True)\n",
        "df2['Subject'] = df2['Subject'].replace(r'.*⁠life sciences.*', '⁠Life Sciences'.lower(), regex=True)\n",
        "df2['Subject'] = df2['Subject'].replace(r'.*aiml.*', 'Computer Science - Artificial intelligence and Machine Learning'.lower(), regex=True)\n",
        "df2['Subject'] = df2['Subject'].replace(r'.*data science.*', '⁠Computer Science - Data Science '.lower(), regex=True)\n",
        "df2['Subject'] = df2['Subject'].replace(r'.*psychology.*', 'Psychology'.lower(), regex=True)\n",
        "df2['Subject'] = df2['Subject'].replace(r'.*journalism and mass communication.*', 'Journalism and Mass communication'.lower(), regex=True)\n",
        "df2['Subject'] = df2['Subject'].replace(r'.*information technology.*', 'Information Technology'.lower(), regex=True)\n",
        "df2['Subject'] = df2['Subject'].replace(r'.*laboratory technology.*', 'Medical Laboratory Technology'.lower(), regex=True)\n",
        "df2['Subject'] = df2['Subject'].replace(r'.*electronics and communication.*', 'Electronics and Communication'.lower(), regex=True)\n",
        "df2['Subject'] = df2['Subject'].replace(r'.*electrical.*', 'Electrical Engineering'.lower(), regex=True)\n",
        "df2['Subject'] = df2['Subject'].replace(r'.*hr.*', 'Human Resource'.lower(), regex=True)\n",
        "df2['Subject'] = df2['Subject'].replace(r'.*history.*', 'History'.lower(), regex=True)\n",
        "df2['Subject'] = df2['Subject'].replace(r'.*geography.*', 'Geography'.lower(), regex=True)\n",
        "df2['Subject'] = df2['Subject'].replace(r'.*fashion.*', 'Fashion Designing'.lower(), regex=True)\n",
        "df2['Subject'] = df2['Subject'].replace(r'.*economic.*', 'Economics'.lower(), regex=True)\n",
        "df2['Subject'] = df2['Subject'].replace(r'.*data visualization.*', 'Data Visualization'.lower(), regex=True)\n",
        "df2['Subject'] = df2['Subject'].replace(r'.*computer application.*', 'Computer Application'.lower(), regex=True)\n",
        "df2['Subject'] = df2['Subject'].replace(r'.*chemical.*','Chemical Engineering'.lower(), regex=True)\n",
        "df2['Subject'] = df2['Subject'].replace(r'.*csbs.*', 'Computer Science and Business System'.lower(), regex=True)\n",
        "df2['Subject'] = df2['Subject'].replace(r'.*biomedical.*', 'Biomedical Engineering'.lower(), regex=True)\n",
        "df2['Subject'] = df2['Subject'].replace(r'.*hospital management.*', 'Hospital Management'.lower(), regex=True)\n",
        "df2['Subject'] = df2['Subject'].replace(r'.*political science.*', 'Political Science'.lower(), regex=True)\n",
        "df2['Subject'] = df2['Subject'].replace(r'.*english.*', 'English'.lower(), regex=True)\n",
        "df2['Subject'] = df2['Subject'].replace(r'.*food.*', 'Food Technology'.lower(), regex=True)\n",
        "df2['Subject'] = df2['Subject'].replace(r'.*analytic.*', 'Analytics'.lower(), regex=True)\n",
        "df2['Subject'] = df2['Subject'].replace(r'.*animation.*', 'Animation'.lower(), regex=True)\n",
        "df2['Subject'] = df2['Subject'].replace(r'.*agricul.*','Agriculture'.lower(),regex=True)\n",
        "df2['Subject'] = df2['Subject'].replace(r'.*account.*', 'Accountancy'.lower(), regex=True)\n",
        "df2['Subject'] = df2['Subject'].replace(r'.*constitutional.*','Constitutional Matters'.lower(),regex=True)\n",
        "df2['Subject'] = df2['Subject'].replace(r'.*finance', 'Finance'.lower(),regex=True)\n",
        "df2['Subject'] = df2['Subject'].replace(r'.*management.*', 'Management'.lower(), regex=True)\n",
        "df2['Subject'] = df2['Subject'].replace(r'medical', np.nan)\n",
        "df2['Subject'] = df2['Subject'].replace(r'engineering', np.nan)\n",
        "df2['Subject'] = df2['Subject'].replace(r'na', np.nan)\n",
        "df2['Subject'] = df2['Subject'].replace(r'business',  'Computer Science and Business System'.lower())\n",
        "df2['Subject'] = df2['Subject'].replace(r'.*computer.*', 'computer science engineering')\n",
        "df2['Subject'] = df2['Subject'].replace(r'.*instrumentation.*', 'Electronics and Instrumentation Engineering'.lower(), regex=True)\n",
        "null_list = np.array(['nothing','bcom','llb','law','bachelor of business administration'])\n",
        "for i in range(len(null_list)):\n",
        "  df2['Subject'] = df2['Subject'].replace(null_list[i], np.nan,regex=True)\n",
        "\n",
        "df2.to_csv('/content/drive/MyDrive/pdf files/output.csv', index=False)"
      ]
    },
    {
      "cell_type": "markdown",
      "metadata": {
        "id": "ovUG8G4U7zE8"
      },
      "source": [
        "# Defining Funtions\n",
        "\n",
        "1) \"process_age\" is a function dealing with the age by which students are willing to settle down. [i) taking the numaric value from response;  ii) taking avg. if multiple values are mentioned;  iii) assigninh NaN if no numaric value mentioned.]\n",
        "\n",
        "2)process_spend is a funtion to deal with Expented Amnt to be spend by a student for their further education. [i) extracting numaric value; ii)taking avg. iii) assignning NaN when required.]"
      ]
    },
    {
      "cell_type": "code",
      "execution_count": 15,
      "metadata": {
        "id": "bC4qvJwq5VFG"
      },
      "outputs": [],
      "source": [
        "def process_age(value):\n",
        "    # Extract all numbers in the string\n",
        "    numbers = [int(num) for num in value.split() if num.isdigit()]\n",
        "    if len(numbers) == 1:\n",
        "        return numbers[0]\n",
        "    elif len(numbers) == 2:\n",
        "        return sum(numbers) / 2\n",
        "    else:\n",
        "        return np.nan\n",
        "\n",
        "def process_spend(value):\n",
        "    # Extract all numbers in the string\n",
        "    numbers = [float(''.join(re.findall(r'\\d+\\.?\\d*', num))) for num in re.split(r'-|\\s|r', value) if any(char.isdigit() for char in num)]\n",
        "    #print(numbers)\n",
        "    if len(numbers) == 1:\n",
        "      if numbers[0]>1000:\n",
        "        return numbers[0]/100000\n",
        "      else:\n",
        "        return numbers[0]\n",
        "    elif len(numbers) == 2:\n",
        "        return sum(numbers) / 2\n",
        "    else:\n",
        "        return np.nan\n",
        "\n"
      ]
    },
    {
      "cell_type": "markdown",
      "metadata": {
        "id": "zd67XqrX9KIH"
      },
      "source": [
        "# DATA CLEAN : LVL 2.2\n",
        "1) Updating 2 columns based above defined functions\n",
        "\n",
        "['Age' , 'Spending']"
      ]
    },
    {
      "cell_type": "code",
      "execution_count": 16,
      "metadata": {
        "id": "tO8TWH8FAOLv"
      },
      "outputs": [],
      "source": [
        "df2['Age'] = df2['Age'].astype(str)\n",
        "df2['Spending'] = df2['Spending'].astype(str)\n",
        "#print(df2['Age'])\n",
        "df2['Age'] = df2['Age'].apply(process_age)\n",
        "\n",
        "\n",
        "df2['Spending'] = df2['Spending'].str.lower().str.strip()\n",
        "df2['Spending'] = df2['Spending'].replace(r'Not a single penny more','0',regex=True)\n",
        "df2['Spending'] = df2['Spending'].replace(r'.*crore.*','100',regex=True)\n",
        "\n",
        "df2['Spending'] = df2['Spending'].apply(process_spend)\n",
        "\n",
        "df2.to_csv('/content/drive/MyDrive/pdf files/output.csv', index=False)"
      ]
    },
    {
      "cell_type": "markdown",
      "metadata": {
        "id": "s4jn6892CmbQ"
      },
      "source": [
        "# Sorted columns:\n",
        "\n",
        "\n",
        "1) index\n",
        "\n",
        "2) Age Group\n",
        "\n",
        "3) Gender\n",
        "\n",
        "4) College Name\n",
        "\n",
        "5) Subject\n",
        "\n",
        "6) Age\n",
        "\n",
        "7) Spending\n",
        "\n",
        "8) Degree"
      ]
    },
    {
      "cell_type": "markdown",
      "metadata": {
        "id": "tSkhcM2S9lrT"
      },
      "source": [
        "#DATA CLEAN : LVL 2.3\n",
        "1) Degree\n",
        "\n",
        "2) Expected Salary"
      ]
    },
    {
      "cell_type": "code",
      "execution_count": 17,
      "metadata": {
        "id": "BP40bobuQoa0"
      },
      "outputs": [],
      "source": [
        "df2['Degree '] = df2['Degree '].replace(r'B.Sc / BS / BCA', 'B.Sc / BS')\n",
        "df2['Degree '] = df2['Degree '].str.lower().str.strip()\n",
        "df2['Degree '] = df2['Degree '].replace(r'.*bfa.*','bfa',regex=True)\n",
        "df2['Degree '] = df2['Degree '].replace(r'.*bsms.*','bsms',regex=True)\n",
        "\n",
        "df2.loc[df2['Subject'].str.lower().str.strip() == 'computer application', 'Degree '] = 'bca'\n",
        "\n",
        "\n",
        "df2.to_csv('/content/drive/MyDrive/pdf files/output.csv', index=False)"
      ]
    },
    {
      "cell_type": "markdown",
      "metadata": {
        "id": "6oNC2HiJrgZ8"
      },
      "source": [
        "Perform **\"Multinomial Logistic Regression\"**\n",
        "\n",
        "![WhatsApp Image 2024-11-03 at 16.39.40.jpeg](data:image/jpeg;base64,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)"
      ]
    },
    {
      "cell_type": "code",
      "source": [],
      "metadata": {
        "id": "sF_auCIml3vg"
      },
      "execution_count": 17,
      "outputs": []
    },
    {
      "cell_type": "markdown",
      "metadata": {
        "id": "yav0EouCy3eQ"
      },
      "source": [
        "#DATA CLEAN : LVL 2.4\n",
        "1) percent 10\n",
        "\n",
        "2) percent 12\n",
        "\n",
        "3) Dealing with Class X favourite marks and it's Marks and Class XII favourite marks and it's Marks"
      ]
    },
    {
      "cell_type": "code",
      "execution_count": 18,
      "metadata": {
        "id": "7_aNLV5vzFYn"
      },
      "outputs": [],
      "source": [
        "def average_range(range_str):\n",
        "    lower, upper = map(float, range_str.split(' - '))\n",
        "    return (lower + upper) / 2"
      ]
    },
    {
      "cell_type": "code",
      "source": [
        "def has_no_numbers(input_string):\n",
        "    return not bool(re.search(r'\\d', input_string))\n"
      ],
      "metadata": {
        "id": "m7I5WRpvlGrG"
      },
      "execution_count": 19,
      "outputs": []
    },
    {
      "cell_type": "code",
      "execution_count": 20,
      "metadata": {
        "id": "vcEXokNCy4QB"
      },
      "outputs": [],
      "source": [
        "df2['Percent_10'] = df2['Percent_10'].replace(r'60-70', '60 - 70')\n",
        "df2['Percent_10'] = df2['Percent_10'].astype(str)\n",
        "#print(df2['Percent_10'])\n",
        "df2['Percent_10'] = df2['Percent_10'].apply(average_range)\n",
        "\n",
        "df2['Percent_12'] = df2['Percent_12'].replace(r'60-70', '60 - 70')\n",
        "df2['Percent_12'] = df2['Percent_12'].astype(str)\n",
        "#print(df2['Percent_10'])\n",
        "df2['Percent_12'] = df2['Percent_12'].apply(average_range)\n",
        "\n",
        "df2.to_csv('/content/drive/MyDrive/pdf files/output.csv', index=False)"
      ]
    },
    {
      "cell_type": "code",
      "execution_count": 21,
      "metadata": {
        "id": "SPm7O0TeCo6q"
      },
      "outputs": [],
      "source": [
        "# Extract the subject and marks from the 'fav_marks_XII' column\n",
        "df2[['Favorite_Subject_10', 'Marks_10']] = df2['fav_marks_X'].str.extract(r'([A-Za-z]+)[\\s:,\\-(]+(\\d+)')\n",
        "df2[['Favorite_Subject_12', 'Marks_12']] = df2['fav_marks_XII'].str.extract(r'([A-Za-z]+)[\\s:,\\-(]+(\\d+)')\n",
        "#df2[['Favorite_Subject_12', 'Marks_12']] = df2['fav_marks_XII'].str.split('-', expand=True)\n",
        "\n",
        "df2['Favorite_Subject_10'] = df2.apply(lambda row: row['fav_marks_X'] if has_no_numbers(row['fav_marks_X']) else row['Favorite_Subject_10'], axis=1)\n",
        "\n",
        "\n",
        "# Convert 'Marks_12' to numeric, if necessary\n",
        "df2['Marks_10'] = pd.to_numeric(df2['Marks_10'], errors='coerce')\n",
        "df2['Marks_12'] = pd.to_numeric(df2['Marks_12'], errors='coerce')\n"
      ]
    },
    {
      "cell_type": "code",
      "source": [
        "df2=df2.drop('fav_marks_X', axis=1)\n",
        "df2=df2.drop('fav_marks_XII', axis=1)\n",
        "\n",
        "Subject_mapping2 = {\n",
        "    'maths': 'mathematics',\n",
        "    'math':'mathematics',\n",
        "    'computerscience': 'computer science',\n",
        "    #'amity university kolkata': 'amity university'\n",
        "    }\n",
        "\n",
        "\n",
        "df2['Favorite_Subject_10'] = df2['Favorite_Subject_10'].map(college_mapping).fillna(df2['Favorite_Subject_10'])\n",
        "df2['Favorite_Subject_12'] = df2['Favorite_Subject_12'].map(college_mapping).fillna(df2['Favorite_Subject_12'])"
      ],
      "metadata": {
        "id": "SKbWtJD-eS3d"
      },
      "execution_count": 22,
      "outputs": []
    },
    {
      "cell_type": "code",
      "source": [
        "df2 = df2.applymap(lambda x: x.lower() if isinstance(x, str) else x)\n",
        "\n",
        "df2['college_code'] = df2['College Name '].astype('category').cat.codes + 1\n",
        "\n",
        "df2.to_csv('/content/drive/MyDrive/pdf files/output.csv', index=False)"
      ],
      "metadata": {
        "id": "mJkMiPFLb88z",
        "colab": {
          "base_uri": "https://localhost:8080/"
        },
        "outputId": "78ef84fe-4838-48a3-ea62-ecddb359dfad"
      },
      "execution_count": 23,
      "outputs": [
        {
          "output_type": "stream",
          "name": "stderr",
          "text": [
            "<ipython-input-23-0f63031faf2e>:1: FutureWarning: DataFrame.applymap has been deprecated. Use DataFrame.map instead.\n",
            "  df2 = df2.applymap(lambda x: x.lower() if isinstance(x, str) else x)\n"
          ]
        }
      ]
    },
    {
      "cell_type": "markdown",
      "source": [
        "exp_salary -> @⁨Rishav Pedo⁩\n",
        "\n",
        "proffesion -> @⁨Saunak SNU⁩\n",
        "\n",
        "parent’s occupation -> me"
      ],
      "metadata": {
        "id": "s2IlqEEfjIyp"
      }
    },
    {
      "cell_type": "markdown",
      "source": [
        "parents occupation"
      ],
      "metadata": {
        "id": "5UU8F2c3jSr8"
      }
    },
    {
      "cell_type": "code",
      "execution_count": 24,
      "metadata": {
        "id": "SmCKahcezG_H"
      },
      "outputs": [],
      "source": [
        "df2['profession'] = df2['profession'].str.lower().str.strip().apply(lambda x: re.sub(r'[^A-Za-z0-9 ]+', '', x))\n",
        "df2['profession'] = df2['profession'].replace(r'.*data analyst.*', 'data analyst', regex=True)\n",
        "df2['profession'] = df2['profession'].replace(r'.*msc.*','academia')\n",
        "df2['profession'] = df2['profession'].replace(r'.*sde.*','software development engineer')\n",
        "df2['profession'] = df2['profession'].replace(r'.*entrepreneur.*', 'entrepreneurship', regex=True)\n",
        "#df2['profession'] = df2['profession'].replace(r'.*data scientist, sports analyst.*', 'data analyst', regex=True)\n",
        "df2['profession'] = df2['profession'].replace(r'.*commerce related.*', 'commercial', regex=True)\n",
        "df2['profession'] = df2['profession'].replace(r'.*software developer.*', 'software development engineer', regex=True)\n",
        "#df2['profession'] = df2['profession'].replace(r'.*.*', '', regex=True)\n",
        "\n",
        "\n"
      ]
    },
    {
      "cell_type": "code",
      "source": [
        "'''null_list = np.array(['not','haven','depends','no','don','na'])\n",
        "for i in range(len(null_list)):\n",
        "  df2['Expected_salary'] = df2['Expected_salary'].replace(null_list[i], np.nan,regex=True)\n",
        "\n",
        "df2.to_csv('/content/drive/MyDrive/pdf files/output.csv', index=False)'''"
      ],
      "metadata": {
        "id": "htkpuQ4tL4NY",
        "colab": {
          "base_uri": "https://localhost:8080/",
          "height": 53
        },
        "outputId": "60f2f48f-b184-4e3b-c88c-96bb4cf4d084"
      },
      "execution_count": 25,
      "outputs": [
        {
          "output_type": "execute_result",
          "data": {
            "text/plain": [
              "\"null_list = np.array(['not','haven','depends','no','don','na'])\\nfor i in range(len(null_list)):\\n  df2['Expected_salary'] = df2['Expected_salary'].replace(null_list[i], np.nan,regex=True)\\n\\ndf2.to_csv('/content/drive/MyDrive/pdf files/output.csv', index=False)\""
            ],
            "application/vnd.google.colaboratory.intrinsic+json": {
              "type": "string"
            }
          },
          "metadata": {},
          "execution_count": 25
        }
      ]
    },
    {
      "cell_type": "code",
      "source": [
        "#df2['Expected_salary'] = df2[df2['Expected_salary'].str.contains(r'\\d', na=False)]\n",
        "df2['Expected_salary'] = df2['Expected_salary'].astype(str)\n",
        "df2['Expected_salary'] = df2['Expected_salary'].apply(lambda x: x if any(char.isdigit() for char in x) else np.nan)\n"
      ],
      "metadata": {
        "id": "jQzbmMl3daY2"
      },
      "execution_count": 26,
      "outputs": []
    },
    {
      "cell_type": "code",
      "source": [],
      "metadata": {
        "id": "9Wsg6ylvob_A"
      },
      "execution_count": null,
      "outputs": []
    },
    {
      "cell_type": "code",
      "source": [
        "print(df2.columns)\n",
        "\n",
        "# Specify the new column order\n",
        "new_column_order = ['index', 'Age Group', 'Gender','college_code', 'College Name ', 'Degree ', 'Subject','Percent_10','Favorite_Subject_10', 'Marks_10','Percent_12','Favorite_Subject_12', 'Marks_12','CGPA','co-curricular activity','profession', 'preffed sector','Expected_salary','Do you feel financially constrained while choosing your career in higher studies? ','Family_income', \"Parent's occupation\",\n",
        "       'Spending', 'parents_influence', 'friend_influence', 'mentor_influence',\n",
        "       'social_expectations', 'social_media_influence', 'personal_choice']\n",
        "\n",
        "# Reorder DataFrame columns\n",
        "df2 = df2[new_column_order]\n",
        "\n",
        "df2.to_csv('/content/drive/MyDrive/pdf files/output.csv', index=False)"
      ],
      "metadata": {
        "id": "-VHRmjaq5cOL",
        "colab": {
          "base_uri": "https://localhost:8080/"
        },
        "outputId": "fcf5af08-0020-4efd-b48b-ed3c6013cf68"
      },
      "execution_count": 27,
      "outputs": [
        {
          "output_type": "stream",
          "name": "stdout",
          "text": [
            "Index(['index', 'Age Group', 'Gender', 'College Name ', 'Degree ', 'Subject',\n",
            "       'Percent_10', 'co-curricular activity', 'Percent_12', 'motivation',\n",
            "       'satisfaction', 'easy', 'CGPA', 'profession', 'preffed sector',\n",
            "       'Do you feel financially constrained while choosing your career in higher studies? ',\n",
            "       'Expected_salary', 'Age', 'Family_income', 'Parent's occupation',\n",
            "       'Spending', 'parents_influence', 'friend_influence', 'mentor_influence',\n",
            "       'social_expectations', 'social_media_influence', 'personal_choice',\n",
            "       'Favorite_Subject_10', 'Marks_10', 'Favorite_Subject_12', 'Marks_12',\n",
            "       'college_code'],\n",
            "      dtype='object', name=0)\n"
          ]
        }
      ]
    },
    {
      "cell_type": "markdown",
      "source": [
        "# Data Repesentation 1\n",
        "\n",
        "1) Gender"
      ],
      "metadata": {
        "id": "TT5ZgXcluMo-"
      }
    },
    {
      "cell_type": "code",
      "source": [
        "Gender_counts = df2['Gender'].value_counts()\n",
        "print(Gender_counts)\n",
        "print(\"Sample Size: \",total_frequency)\n",
        "#------------------------------------------------------\n",
        "Gender_counts.plot.pie(autopct='%1.1f%%', startangle=90)\n",
        "plt.ylabel('')  # Hide the y-label\n",
        "plt.title('Gender-wise Distribution')\n",
        "plt.show()"
      ],
      "metadata": {
        "id": "FEZZJnm3vTQ3",
        "colab": {
          "base_uri": "https://localhost:8080/",
          "height": 535
        },
        "outputId": "5b19c145-cdc1-4e9d-99b1-e145a27912bb"
      },
      "execution_count": 28,
      "outputs": [
        {
          "output_type": "stream",
          "name": "stdout",
          "text": [
            "Gender\n",
            "f    95\n",
            "m    89\n",
            "o     1\n",
            "Name: count, dtype: int64\n",
            "Sample Size:  185\n"
          ]
        },
        {
          "output_type": "display_data",
          "data": {
            "text/plain": [
              "<Figure size 640x480 with 1 Axes>"
            ],
            "image/png": "[encoded data removed]"
          },
          "metadata": {}
        }
      ]
    },
    {
      "cell_type": "markdown",
      "source": [
        "#Correlation\n",
        "\n",
        "Simple and Multiple Correlation"
      ],
      "metadata": {
        "id": "UDN8yPxE0B6u"
      }
    },
    {
      "cell_type": "code",
      "source": [
        "df2['Family_income']=df2['Family_income'].astype(str)\n",
        "\n",
        "df2['Family_income_coded'] = df2['Family_income'].apply(\n",
        "    lambda x: 0 if x == 'below 3 lakhs' else\n",
        "              1 if x == '3 -  7  lakhs' else\n",
        "              2 if x == '7 - 10 lakhs' else\n",
        "              3 if x == '10 - 12 lakhs' else\n",
        "              4 if x == '12 - 15 lakhs' else 5)\n",
        "\n",
        "correlation = df2['Spending'].corr(df2['Family_income_coded'])\n",
        "print(\"Correlation b/w Family income and Amnt students are ready to invest in Higher Education:\", correlation)\n",
        "\n",
        "\n",
        "correlation2 = df2['Percent_10'].corr(df2['Percent_12'])\n",
        "print(\"Correlation b/w Class 10 Avg. & Class 12 Avg.:\", correlation2)\n",
        "\n",
        "\n",
        "correlation3 = df2['Spending'].corr(df2['college_code'])\n",
        "print(\"Correlation b/w Spending & Colleges :\", correlation3)"
      ],
      "metadata": {
        "id": "rnIEChX70CVz",
        "colab": {
          "base_uri": "https://localhost:8080/"
        },
        "outputId": "9aa35ad4-abcc-41b0-c58b-e275031628b1"
      },
      "execution_count": 29,
      "outputs": [
        {
          "output_type": "stream",
          "name": "stdout",
          "text": [
            "Correlation b/w Family income and Amnt students are ready to invest in Higher Education: 0.3890507395411956\n",
            "Correlation b/w Class 10 Avg. & Class 12 Avg.: 0.5082196689707311\n",
            "Correlation b/w Spending & Colleges : 0.057326483006432685\n"
          ]
        }
      ]
    },
    {
      "cell_type": "code",
      "source": [
        "def multiple_correlation(cgpa, percent_10, percent_12):\n",
        "    # Calculate pairwise correlation coefficients\n",
        "    r_Y_X1 = np.corrcoef(cgpa, percent_10)[0, 1]\n",
        "    r_Y_X2 = np.corrcoef(cgpa, percent_12)[0, 1]\n",
        "    r_X1_X2 = np.corrcoef(percent_10, percent_12)[0, 1]\n",
        "\n",
        "    # Calculate multiple correlation coefficient\n",
        "    numerator = (r_Y_X1**2 + r_Y_X2**2 - 2 * r_Y_X1 * r_Y_X2 * r_X1_X2)\n",
        "    denominator = (1 - r_X1_X2**2)\n",
        "    R_Y_X1X2 = np.sqrt(numerator / denominator) if denominator != 0 else np.nan  # To handle division by zero\n",
        "\n",
        "    return R_Y_X1X2"
      ],
      "metadata": {
        "id": "aXBV0C7bTy6G"
      },
      "execution_count": 30,
      "outputs": []
    },
    {
      "cell_type": "code",
      "source": [
        "#print(type(df2['CGPA']))\n",
        "df2['CGPA'] = pd.to_numeric(df2['CGPA'], errors='coerce')\n",
        "df2['Percent_10'] = pd.to_numeric(df2['Percent_10'], errors='coerce')\n",
        "df2['Percent_12'] = pd.to_numeric(df2['Percent_12'], errors='coerce')\n",
        "\n",
        "\n",
        "multiple_corr = multiple_correlation(df2['CGPA'], df2['Percent_10'], df2['Percent_12'])\n",
        "print(\"Multiple Correlation (CGPA with Percent_10 and Percent_12):\", multiple_corr)"
      ],
      "metadata": {
        "id": "YF5kX8nmT6vw",
        "colab": {
          "base_uri": "https://localhost:8080/"
        },
        "outputId": "9421a700-004d-45a4-efd3-7a2e30ee2068"
      },
      "execution_count": 31,
      "outputs": [
        {
          "output_type": "stream",
          "name": "stdout",
          "text": [
            "Multiple Correlation (CGPA with Percent_10 and Percent_12): 0.25782828782388684\n"
          ]
        }
      ]
    },
    {
      "cell_type": "markdown",
      "source": [
        "#Regression"
      ],
      "metadata": {
        "id": "tbErV4J-bw5c"
      }
    },
    {
      "cell_type": "code",
      "source": [
        "# Define the independent variables (X) and the dependent variable (y)\n",
        "X = df2[['Percent_10', 'Percent_12']]\n",
        "y = df2['CGPA']\n",
        "\n",
        "# Add a constant to the model (intercept)\n",
        "X = sm.add_constant(X)\n",
        "\n",
        "# Fit the model\n",
        "model = sm.OLS(y, X).fit()\n",
        "\n",
        "# Print the summary of the regression\n",
        "print(model.summary())"
      ],
      "metadata": {
        "id": "w711pQvhbJ9u",
        "colab": {
          "base_uri": "https://localhost:8080/"
        },
        "outputId": "e09da6b0-b65a-4b72-a49f-3b1491e8568c"
      },
      "execution_count": 32,
      "outputs": [
        {
          "output_type": "stream",
          "name": "stdout",
          "text": [
            "                            OLS Regression Results                            \n",
            "==============================================================================\n",
            "Dep. Variable:                   CGPA   R-squared:                       0.066\n",
            "Model:                            OLS   Adj. R-squared:                  0.056\n",
            "Method:                 Least Squares   F-statistic:                     6.480\n",
            "Date:                Sun, 08 Dec 2024   Prob (F-statistic):            0.00191\n",
            "Time:                        09:36:37   Log-Likelihood:                -436.82\n",
            "No. Observations:                 185   AIC:                             879.6\n",
            "Df Residuals:                     182   BIC:                             889.3\n",
            "Df Model:                           2                                         \n",
            "Covariance Type:            nonrobust                                         \n",
            "==============================================================================\n",
            "                 coef    std err          t      P>|t|      [0.025      0.975]\n",
            "------------------------------------------------------------------------------\n",
            "const         -0.0668      2.074     -0.032      0.974      -4.159       4.025\n",
            "Percent_10    -0.0073      0.023     -0.324      0.746      -0.052       0.037\n",
            "Percent_12     0.0829      0.025      3.253      0.001       0.033       0.133\n",
            "==============================================================================\n",
            "Omnibus:                       55.884   Durbin-Watson:                   1.822\n",
            "Prob(Omnibus):                  0.000   Jarque-Bera (JB):               98.349\n",
            "Skew:                          -1.575   Prob(JB):                     4.40e-22\n",
            "Kurtosis:                       4.686   Cond. No.                     1.34e+03\n",
            "==============================================================================\n",
            "\n",
            "Notes:\n",
            "[1] Standard Errors assume that the covariance matrix of the errors is correctly specified.\n",
            "[2] The condition number is large, 1.34e+03. This might indicate that there are\n",
            "strong multicollinearity or other numerical problems.\n"
          ]
        }
      ]
    },
    {
      "cell_type": "markdown",
      "source": [],
      "metadata": {
        "id": "WMqS5EQGaNC8"
      }
    },
    {
      "cell_type": "code",
      "source": [
        "from scipy.stats import f_oneway\n",
        "\n",
        "\n",
        "\n",
        "# Group the quantitative data by each category\n",
        "#groups = [df[df['Category'] == category]['Numeric'] for category in df['Category'].unique()]\n",
        "#anova_result = f_oneway(*groups)\n",
        "#print(\"ANOVA F-statistic:\", anova_result.statistic)\n",
        "#print(\"ANOVA p-value:\", anova_result.pvalue)"
      ],
      "metadata": {
        "id": "JJhVOY7l1Bqd"
      },
      "execution_count": 33,
      "outputs": []
    }
  ],
  "metadata": {
    "colab": {
      "provenance": []
    },
    "kernelspec": {
      "display_name": "Python 3",
      "name": "python3"
    },
    "language_info": {
      "name": "python"
    }
  },
  "nbformat": 4,
  "nbformat_minor": 0
}